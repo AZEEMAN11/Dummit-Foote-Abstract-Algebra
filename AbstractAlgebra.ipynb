{
 "cells": [
  {
   "cell_type": "markdown",
   "metadata": {},
   "source": [
    "# Preliminaries"
   ]
  },
  {
   "cell_type": "markdown",
   "metadata": {},
   "source": [
    "## Basics"
   ]
  },
  {
   "cell_type": "markdown",
   "metadata": {},
   "source": [
    "In Exercises 1 to 4 let $\\mathcal{A}$ be the set of 2 $\\times$ 2 matrices with real number entries . Recall that matrix multiplication is defined as "
   ]
  },
  {
   "cell_type": "markdown",
   "metadata": {},
   "source": [
    "$$\\begin{bmatrix}a&b\\\\c&d \\end{bmatrix}\\begin{bmatrix}p&q\\\\r&s \\end{bmatrix}=\\begin{bmatrix}ap+br&aq+bs\\\\cp+dr&cq+ds \\end{bmatrix}$$"
   ]
  },
  {
   "cell_type": "markdown",
   "metadata": {},
   "source": [
    "Let $$M= \\begin{bmatrix}1&1\\\\0&1 \\end{bmatrix}$$"
   ]
  },
  {
   "cell_type": "markdown",
   "metadata": {},
   "source": [
    "$$\\mathcal{B}=\\{ X \\in \\mathcal{A} | MX=XM\\}$$"
   ]
  },
  {
   "cell_type": "markdown",
   "metadata": {},
   "source": [
    "### Determine which of the following elements of $\\mathcal{A}$ lie in $\\mathcal{B}$"
   ]
  },
  {
   "cell_type": "markdown",
   "metadata": {},
   "source": [
    "$$\\begin{bmatrix}1&1\\\\0&1 \\end{bmatrix}\\;,\\;\\begin{bmatrix}1&1\\\\1&1 \\end{bmatrix}\\;,\\;\\begin{bmatrix}0&0\\\\0&0 \\end{bmatrix}\\;,\\;\\begin{bmatrix}1&1\\\\1&0 \\end{bmatrix}\\;,\\;\\begin{bmatrix}1&0\\\\0&1 \\end{bmatrix}\\;,\\;\\begin{bmatrix}0&1\\\\1&0 \\end{bmatrix}$$"
   ]
  },
  {
   "cell_type": "markdown",
   "metadata": {},
   "source": [
    "#### Solution"
   ]
  },
  {
   "cell_type": "markdown",
   "metadata": {},
   "source": [
    "- $\\boxed{\\begin{bmatrix}1&1\\\\0&1 \\end{bmatrix} \\not \\in \\mathcal{A}}$, take  $\\begin{bmatrix}1&1\\\\1&0 \\end{bmatrix}$ $\\begin{bmatrix}a&b\\\\c&d \\end{bmatrix}= $ $\\begin{bmatrix}a+c&b+d\\\\a&b \\end{bmatrix} \\not =  $$\\begin{bmatrix}a&b\\\\c&d \\end{bmatrix}\\begin{bmatrix}1&1\\\\1&0 \\end{bmatrix}=\\begin{bmatrix}a+b&a\\\\c+d&c \\end{bmatrix}$  "
   ]
  },
  {
   "cell_type": "markdown",
   "metadata": {},
   "source": [
    "- $\\boxed{\\begin{bmatrix}1&1\\\\1&1 \\end{bmatrix} \\not \\in \\mathcal{A}}$, take  $\\begin{bmatrix}1&1\\\\1&1 \\end{bmatrix}$ $\\begin{bmatrix}a&b\\\\c&d \\end{bmatrix}= $ $\\begin{bmatrix}a+c&b+d\\\\a+c&b+d \\end{bmatrix} \\not =  $$\\begin{bmatrix}a&b\\\\c&d \\end{bmatrix}\\begin{bmatrix}1&1\\\\1&1 \\end{bmatrix}=\\begin{bmatrix}a+b&c+d\\\\a+b&c+d \\end{bmatrix}$  "
   ]
  },
  {
   "cell_type": "markdown",
   "metadata": {},
   "source": [
    "- $\\boxed{\\begin{bmatrix}0&0\\\\0&0 \\end{bmatrix}  \\in \\mathcal{A}}$, take  $\\begin{bmatrix}0&0\\\\0&0 \\end{bmatrix}$ $\\begin{bmatrix}a&b\\\\c&d \\end{bmatrix}= $ $\\begin{bmatrix}0&0\\\\0&0 \\end{bmatrix}  =  $$\\begin{bmatrix}a&b\\\\c&d \\end{bmatrix}\\begin{bmatrix}0&0\\\\0&0 \\end{bmatrix}=\\begin{bmatrix}0&0\\\\0&0 \\end{bmatrix}$  "
   ]
  },
  {
   "cell_type": "markdown",
   "metadata": {},
   "source": [
    "- $\\boxed{\\begin{bmatrix}1&1\\\\1&0 \\end{bmatrix} \\not \\in \\mathcal{A}}$, take  $\\begin{bmatrix}1&1\\\\1&0 \\end{bmatrix}$ $\\begin{bmatrix}a&b\\\\c&d \\end{bmatrix}= $ $\\begin{bmatrix}a+c&b+d\\\\a&b \\end{bmatrix}  \\not =  $$\\begin{bmatrix}a&b\\\\c&d \\end{bmatrix}\\begin{bmatrix}1&1\\\\1&0 \\end{bmatrix}=\\begin{bmatrix}a+b&a\\\\c+d&c \\end{bmatrix}$  "
   ]
  },
  {
   "cell_type": "markdown",
   "metadata": {},
   "source": [
    "- $\\boxed{\\begin{bmatrix}1&0\\\\0&1 \\end{bmatrix}  \\in \\mathcal{A}}$, take  $\\begin{bmatrix}1&0\\\\0&1 \\end{bmatrix}$ $\\begin{bmatrix}a&b\\\\c&d \\end{bmatrix}= $ $\\begin{bmatrix}a&b\\\\c&d \\end{bmatrix}   =  $$\\begin{bmatrix}a&b\\\\c&d \\end{bmatrix}\\begin{bmatrix}1&0\\\\0&1 \\end{bmatrix}=\\begin{bmatrix}a&b\\\\c&d \\end{bmatrix}$  "
   ]
  },
  {
   "cell_type": "markdown",
   "metadata": {},
   "source": [
    "- $\\boxed{\\begin{bmatrix}0&1\\\\1&0 \\end{bmatrix} \\not \\in \\mathcal{A}}$, take  $\\begin{bmatrix}0&1\\\\1&0 \\end{bmatrix}$ $\\begin{bmatrix}a&b\\\\c&d \\end{bmatrix}= $ $\\begin{bmatrix}c&d\\\\a&b \\end{bmatrix}  \\not =  $$\\begin{bmatrix}a&b\\\\c&d \\end{bmatrix}\\begin{bmatrix}0&1\\\\1&0 \\end{bmatrix}=\\begin{bmatrix}b&a\\\\d&c \\end{bmatrix}$  "
   ]
  },
  {
   "cell_type": "markdown",
   "metadata": {},
   "source": [
    "### Prove that if P,Q $\\in \\mathcal{B}$, then $P+Q \\in \\mathcal{B}$"
   ]
  },
  {
   "cell_type": "markdown",
   "metadata": {},
   "source": [
    "#### Solution"
   ]
  },
  {
   "cell_type": "markdown",
   "metadata": {},
   "source": [
    "Since P, Q $\\in \\mathcal{B}$, then for  any matrix $R \\in A$, $PR=RP, RQ=QR$, clearly:\n",
    "\n",
    "\\begin{align}\n",
    "(P+Q)R&=PR+QR&& \\text{Distributive law}\\\\\n",
    "&=RP+RQ && P,Q \\in \\mathcal{B}\\\\\n",
    "&=R(P+Q)\n",
    "\\end{align}\n",
    "Therefore $(P+Q)\\in \\mathcal{B}$"
   ]
  },
  {
   "cell_type": "markdown",
   "metadata": {},
   "source": [
    "$\\hrulefill$"
   ]
  },
  {
   "cell_type": "markdown",
   "metadata": {},
   "source": [
    "### Prove that if P,Q $\\in \\mathcal{B}$, then $P\\cdot Q \\in \\mathcal{B}$"
   ]
  },
  {
   "cell_type": "markdown",
   "metadata": {},
   "source": [
    "#### Solution"
   ]
  },
  {
   "cell_type": "markdown",
   "metadata": {},
   "source": [
    "Since P, Q $\\in \\mathcal{B}$, then for  any matrix $R \\in A$, $PR=RP, RQ=QR$, clearly:\n",
    "\n",
    "\\begin{align}\n",
    "(P\\cdot Q)R&=P\\cdot Q\\cdot R&& \\text{Distributive law}\\\\\n",
    "&=R\\cdot P \\cdot Q && P,Q \\in \\mathcal{B}\\\\\n",
    "&=R(P+Q)\n",
    "\\end{align}\n",
    "Therefore $(P\\cdot Q)\\in \\mathcal{B}$"
   ]
  },
  {
   "cell_type": "markdown",
   "metadata": {},
   "source": [
    "### Find conditions on $p,q,r,s$ which determine precisely when $\\begin{bmatrix}p&q\\\\r&s \\end{bmatrix} \\in \\mathcal{B}$"
   ]
  }
 ],
 "metadata": {
  "kernelspec": {
   "display_name": "Python 3",
   "language": "python",
   "name": "python3"
  },
  "language_info": {
   "codemirror_mode": {
    "name": "ipython",
    "version": 3
   },
   "file_extension": ".py",
   "mimetype": "text/x-python",
   "name": "python",
   "nbconvert_exporter": "python",
   "pygments_lexer": "ipython3",
   "version": "3.7.6"
  },
  "toc": {
   "base_numbering": 1,
   "nav_menu": {},
   "number_sections": true,
   "sideBar": true,
   "skip_h1_title": false,
   "title_cell": "Table of Contents",
   "title_sidebar": "Contents",
   "toc_cell": false,
   "toc_position": {},
   "toc_section_display": true,
   "toc_window_display": true
  }
 },
 "nbformat": 4,
 "nbformat_minor": 4
}
